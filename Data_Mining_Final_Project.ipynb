{
  "nbformat": 4,
  "nbformat_minor": 0,
  "metadata": {
    "colab": {
      "provenance": [],
      "collapsed_sections": [
        "bujeEEiuR6WH"
      ],
      "include_colab_link": true
    },
    "kernelspec": {
      "name": "python3",
      "display_name": "Python 3"
    },
    "language_info": {
      "name": "python"
    }
  },
  "cells": [
    {
      "cell_type": "markdown",
      "metadata": {
        "id": "view-in-github",
        "colab_type": "text"
      },
      "source": [
        "<a href=\"https://colab.research.google.com/github/halonoer/datmin_uas_1/blob/main/Data_Mining_Final_Project.ipynb\" target=\"_parent\"><img src=\"https://colab.research.google.com/assets/colab-badge.svg\" alt=\"Open In Colab\"/></a>"
      ]
    },
    {
      "cell_type": "markdown",
      "source": [
        "# Contoh"
      ],
      "metadata": {
        "id": "bujeEEiuR6WH"
      }
    },
    {
      "cell_type": "code",
      "execution_count": null,
      "metadata": {
        "id": "XqdEqCNcOL6C"
      },
      "outputs": [],
      "source": [
        "# # Install google-play-scraper terlebih dahulu\n",
        "# !pip install google-play-scraper"
      ]
    },
    {
      "cell_type": "code",
      "source": [
        "# from google_play_scraper import Sort, reviews\n",
        "# import pandas as pd"
      ],
      "metadata": {
        "id": "t89ubYsmONwN"
      },
      "execution_count": null,
      "outputs": []
    },
    {
      "cell_type": "code",
      "source": [
        "# # Scraping 300 ulasan aplikasi ShopeePay\n",
        "# result, _ = reviews(\n",
        "#     'com.shopeepay.id',  # ID aplikasi ShopeePay\n",
        "#     lang='id',           # Bahasa Indonesia\n",
        "#     country='id',        # Negara Indonesia\n",
        "#     sort=Sort.NEWEST,    # Urutkan berdasarkan ulasan terbaru\n",
        "#     count=300            # Jumlah ulasan yang diambil\n",
        "# )"
      ],
      "metadata": {
        "id": "puQEGqcnORW0"
      },
      "execution_count": null,
      "outputs": []
    },
    {
      "cell_type": "code",
      "source": [
        "# # Konversi data ke dalam DataFrame\n",
        "# df_reviews = pd.DataFrame(result)"
      ],
      "metadata": {
        "id": "iMY_c8QSOTHw"
      },
      "execution_count": null,
      "outputs": []
    },
    {
      "cell_type": "code",
      "source": [
        "# # Pilih kolom yang relevan\n",
        "# df_reviews = df_reviews[['userName', 'score', 'at', 'content']]"
      ],
      "metadata": {
        "id": "61Gu5GswOVC7"
      },
      "execution_count": null,
      "outputs": []
    },
    {
      "cell_type": "code",
      "source": [
        "# # Ubah nama kolom agar mudah dibaca\n",
        "# df_reviews.columns = ['Nama Pengguna', 'Rating', 'Tanggal', 'Ulasan']"
      ],
      "metadata": {
        "id": "sNHTp3QTO_aU"
      },
      "execution_count": null,
      "outputs": []
    },
    {
      "cell_type": "code",
      "source": [
        "# # Tampilkan tabel\n",
        "# print(df_reviews.head(10))  # Menampilkan 10 ulasan pertama"
      ],
      "metadata": {
        "id": "7iuoLiYQPDML"
      },
      "execution_count": null,
      "outputs": []
    },
    {
      "cell_type": "markdown",
      "source": [
        "# 1. Scraping Data Ulasan"
      ],
      "metadata": {
        "id": "rrTFGep-SAr_"
      }
    },
    {
      "cell_type": "code",
      "source": [
        "# Install google-play-scraper terlebih dahulu\n",
        "!pip install google-play-scraper"
      ],
      "metadata": {
        "colab": {
          "base_uri": "https://localhost:8080/"
        },
        "id": "l5v6mMdBR5NY",
        "outputId": "d727e51e-6baf-4beb-8f7a-9b5f02ee429b"
      },
      "execution_count": null,
      "outputs": [
        {
          "output_type": "stream",
          "name": "stdout",
          "text": [
            "Collecting google-play-scraper\n",
            "  Downloading google_play_scraper-1.2.7-py3-none-any.whl.metadata (50 kB)\n",
            "\u001b[?25l     \u001b[90m━━━━━━━━━━━━━━━━━━━━━━━━━━━━━━━━━━━━━━━━\u001b[0m \u001b[32m0.0/50.2 kB\u001b[0m \u001b[31m?\u001b[0m eta \u001b[36m-:--:--\u001b[0m\r\u001b[2K     \u001b[90m━━━━━━━━━━━━━━━━━━━━━━━━━━━━━━━━━━━━━━━━\u001b[0m \u001b[32m50.2/50.2 kB\u001b[0m \u001b[31m3.0 MB/s\u001b[0m eta \u001b[36m0:00:00\u001b[0m\n",
            "\u001b[?25hDownloading google_play_scraper-1.2.7-py3-none-any.whl (28 kB)\n",
            "Installing collected packages: google-play-scraper\n",
            "Successfully installed google-play-scraper-1.2.7\n"
          ]
        }
      ]
    },
    {
      "cell_type": "code",
      "source": [
        "# Import library\n",
        "from google_play_scraper import Sort, reviews\n",
        "import pandas as pd"
      ],
      "metadata": {
        "id": "CbHum7PNR1Tv"
      },
      "execution_count": null,
      "outputs": []
    },
    {
      "cell_type": "code",
      "source": [
        "# Scraping data ulasan\n",
        "review, countinuation_token = reviews(\n",
        "    'com.shopeepay.id',       # ID aplikasi ShopeePay\n",
        "    lang='id',                # Bahasa Indonesia\n",
        "    country='id',             # Negara Indonesia\n",
        "    sort= Sort.MOST_RELEVANT,\n",
        "    count=1000,                # Jumlah ulasan\n",
        ")"
      ],
      "metadata": {
        "id": "UhfHImQTPsfk"
      },
      "execution_count": null,
      "outputs": []
    },
    {
      "cell_type": "code",
      "source": [
        "# Konversi ke DataFrame\n",
        "pd.DataFrame(review)"
      ],
      "metadata": {
        "colab": {
          "base_uri": "https://localhost:8080/",
          "height": 597
        },
        "id": "b-D3et51P9J5",
        "outputId": "e14a3878-b238-4323-d546-30ba062e550a"
      },
      "execution_count": null,
      "outputs": [
        {
          "output_type": "execute_result",
          "data": {
            "text/plain": [
              "                                 reviewId            userName  \\\n",
              "0    8fb34b3d-583d-4f80-b943-d6c1d6a60ed8              T4R NO   \n",
              "1    007818dc-3e1f-428d-8829-4892d7db042e        Devano Azamy   \n",
              "2    1db3f9aa-acda-4254-a261-43bbe4aabfd0    Karenina Yuliana   \n",
              "3    fe9b342c-a06d-4218-bee7-39d11ca018e3  Mutholib Almujidda   \n",
              "4    80302a4a-70c7-4c01-a17c-41d3287c65e9   Dian Permata Sari   \n",
              "..                                    ...                 ...   \n",
              "995  1e1654d1-78cb-48e9-8985-bbfd28061b6c             Ricky S   \n",
              "996  f6ed151e-e92a-4e99-a75a-b2e5074035b5            Fajar Jr   \n",
              "997  82e50481-15b0-404b-94fd-717c0960ad9a       ARYL YULIANTO   \n",
              "998  a3b849c1-8c75-49a6-b46c-326925739c66          Much Airon   \n",
              "999  68c3d6f4-5464-4f17-a1e0-c6b2cabfe441   Lalan Syafaruddin   \n",
              "\n",
              "                                             userImage  \\\n",
              "0    https://play-lh.googleusercontent.com/a-/ALV-U...   \n",
              "1    https://play-lh.googleusercontent.com/a/ACg8oc...   \n",
              "2    https://play-lh.googleusercontent.com/a-/ALV-U...   \n",
              "3    https://play-lh.googleusercontent.com/a-/ALV-U...   \n",
              "4    https://play-lh.googleusercontent.com/a-/ALV-U...   \n",
              "..                                                 ...   \n",
              "995  https://play-lh.googleusercontent.com/a-/ALV-U...   \n",
              "996  https://play-lh.googleusercontent.com/a/ACg8oc...   \n",
              "997  https://play-lh.googleusercontent.com/a-/ALV-U...   \n",
              "998  https://play-lh.googleusercontent.com/a/ACg8oc...   \n",
              "999  https://play-lh.googleusercontent.com/a-/ALV-U...   \n",
              "\n",
              "                                               content  score  thumbsUpCount  \\\n",
              "0    Mudah dalam pembayaran/transaksi. Tranfer bang...      5             64   \n",
              "1    aplikasi nya mudah di gunakan untung pemula da...      5             22   \n",
              "2    Saya punya banyak pay later, ada aku laku, kre...      1            155   \n",
              "3    Saya kecéwa dengan shoppee pay ini masa saya t...      1             14   \n",
              "4    Oke sih, paylatter nya kebantu banget. Cuma se...      3            234   \n",
              "..                                                 ...    ...            ...   \n",
              "995  Sangat membantu untuk segala kebutuhan harian ...      5              0   \n",
              "996  Apk yang sangat rekomended bisa buat mempermud...      5              0   \n",
              "997      Dipakai tranfer ga bisa, padahal sinyal bagus      1              0   \n",
              "998  Bagus dan tidak mengecewakan, bisa bayar apa a...      5              1   \n",
              "999  Terlalu menyepelekan seseorang!masa udah 3x pe...      1              1   \n",
              "\n",
              "    reviewCreatedVersion                  at  \\\n",
              "0                1.19.19 2024-12-16 06:24:33   \n",
              "1                1.19.19 2024-12-17 14:40:56   \n",
              "2                1.19.04 2024-12-03 14:56:30   \n",
              "3                1.19.19 2024-12-16 04:52:03   \n",
              "4                1.17.00 2024-10-30 12:43:28   \n",
              "..                   ...                 ...   \n",
              "995              1.17.00 2024-11-07 23:57:31   \n",
              "996              1.18.11 2024-12-10 04:59:53   \n",
              "997              1.18.11 2024-11-21 10:29:56   \n",
              "998              1.15.05 2024-10-06 11:47:31   \n",
              "999              1.15.07 2024-10-09 05:31:36   \n",
              "\n",
              "                                          replyContent           repliedAt  \\\n",
              "0    Hi kak mohon maaf ya terkait spayletr dibekuka... 2024-12-16 07:21:40   \n",
              "1    hi kak, makasih buat review bintang 5 nya, yuk... 2024-12-17 16:53:06   \n",
              "2    Hii kak, Maaf buat km gak nyaman trkait kndala... 2024-12-03 15:20:22   \n",
              "3    Haii Kak, maacih ya buat penilaiannya, semoga ... 2024-12-11 14:26:10   \n",
              "4    Hi kak, maaf banget ya udah buat kamu ga nyama... 2024-10-30 13:12:00   \n",
              "..                                                 ...                 ...   \n",
              "995  Hi kak, makasih buat komentar dan bintang 5 ny... 2024-11-08 00:08:10   \n",
              "996  Hi kak, makasih banget yaa buat review dan bin... 2024-12-10 05:35:27   \n",
              "997  Haii kak, maaf ya udh bikin km kecewa terkait ... 2024-11-21 11:31:54   \n",
              "998  Hai kak. Makasih buat review dan bintang 5 nya... 2024-10-06 12:51:01   \n",
              "999  Hi kak, maaf bgt yh udah bikin gak nyaman terk... 2024-10-09 06:32:36   \n",
              "\n",
              "    appVersion  \n",
              "0      1.19.19  \n",
              "1      1.19.19  \n",
              "2      1.19.04  \n",
              "3      1.19.19  \n",
              "4      1.17.00  \n",
              "..         ...  \n",
              "995    1.17.00  \n",
              "996    1.18.11  \n",
              "997    1.18.11  \n",
              "998    1.15.05  \n",
              "999    1.15.07  \n",
              "\n",
              "[1000 rows x 11 columns]"
            ],
            "text/html": [
              "\n",
              "  <div id=\"df-dba3b91c-5491-4876-acca-cc67228eb002\" class=\"colab-df-container\">\n",
              "    <div>\n",
              "<style scoped>\n",
              "    .dataframe tbody tr th:only-of-type {\n",
              "        vertical-align: middle;\n",
              "    }\n",
              "\n",
              "    .dataframe tbody tr th {\n",
              "        vertical-align: top;\n",
              "    }\n",
              "\n",
              "    .dataframe thead th {\n",
              "        text-align: right;\n",
              "    }\n",
              "</style>\n",
              "<table border=\"1\" class=\"dataframe\">\n",
              "  <thead>\n",
              "    <tr style=\"text-align: right;\">\n",
              "      <th></th>\n",
              "      <th>reviewId</th>\n",
              "      <th>userName</th>\n",
              "      <th>userImage</th>\n",
              "      <th>content</th>\n",
              "      <th>score</th>\n",
              "      <th>thumbsUpCount</th>\n",
              "      <th>reviewCreatedVersion</th>\n",
              "      <th>at</th>\n",
              "      <th>replyContent</th>\n",
              "      <th>repliedAt</th>\n",
              "      <th>appVersion</th>\n",
              "    </tr>\n",
              "  </thead>\n",
              "  <tbody>\n",
              "    <tr>\n",
              "      <th>0</th>\n",
              "      <td>8fb34b3d-583d-4f80-b943-d6c1d6a60ed8</td>\n",
              "      <td>T4R NO</td>\n",
              "      <td>https://play-lh.googleusercontent.com/a-/ALV-U...</td>\n",
              "      <td>Mudah dalam pembayaran/transaksi. Tranfer bang...</td>\n",
              "      <td>5</td>\n",
              "      <td>64</td>\n",
              "      <td>1.19.19</td>\n",
              "      <td>2024-12-16 06:24:33</td>\n",
              "      <td>Hi kak mohon maaf ya terkait spayletr dibekuka...</td>\n",
              "      <td>2024-12-16 07:21:40</td>\n",
              "      <td>1.19.19</td>\n",
              "    </tr>\n",
              "    <tr>\n",
              "      <th>1</th>\n",
              "      <td>007818dc-3e1f-428d-8829-4892d7db042e</td>\n",
              "      <td>Devano Azamy</td>\n",
              "      <td>https://play-lh.googleusercontent.com/a/ACg8oc...</td>\n",
              "      <td>aplikasi nya mudah di gunakan untung pemula da...</td>\n",
              "      <td>5</td>\n",
              "      <td>22</td>\n",
              "      <td>1.19.19</td>\n",
              "      <td>2024-12-17 14:40:56</td>\n",
              "      <td>hi kak, makasih buat review bintang 5 nya, yuk...</td>\n",
              "      <td>2024-12-17 16:53:06</td>\n",
              "      <td>1.19.19</td>\n",
              "    </tr>\n",
              "    <tr>\n",
              "      <th>2</th>\n",
              "      <td>1db3f9aa-acda-4254-a261-43bbe4aabfd0</td>\n",
              "      <td>Karenina Yuliana</td>\n",
              "      <td>https://play-lh.googleusercontent.com/a-/ALV-U...</td>\n",
              "      <td>Saya punya banyak pay later, ada aku laku, kre...</td>\n",
              "      <td>1</td>\n",
              "      <td>155</td>\n",
              "      <td>1.19.04</td>\n",
              "      <td>2024-12-03 14:56:30</td>\n",
              "      <td>Hii kak, Maaf buat km gak nyaman trkait kndala...</td>\n",
              "      <td>2024-12-03 15:20:22</td>\n",
              "      <td>1.19.04</td>\n",
              "    </tr>\n",
              "    <tr>\n",
              "      <th>3</th>\n",
              "      <td>fe9b342c-a06d-4218-bee7-39d11ca018e3</td>\n",
              "      <td>Mutholib Almujidda</td>\n",
              "      <td>https://play-lh.googleusercontent.com/a-/ALV-U...</td>\n",
              "      <td>Saya kecéwa dengan shoppee pay ini masa saya t...</td>\n",
              "      <td>1</td>\n",
              "      <td>14</td>\n",
              "      <td>1.19.19</td>\n",
              "      <td>2024-12-16 04:52:03</td>\n",
              "      <td>Haii Kak, maacih ya buat penilaiannya, semoga ...</td>\n",
              "      <td>2024-12-11 14:26:10</td>\n",
              "      <td>1.19.19</td>\n",
              "    </tr>\n",
              "    <tr>\n",
              "      <th>4</th>\n",
              "      <td>80302a4a-70c7-4c01-a17c-41d3287c65e9</td>\n",
              "      <td>Dian Permata Sari</td>\n",
              "      <td>https://play-lh.googleusercontent.com/a-/ALV-U...</td>\n",
              "      <td>Oke sih, paylatter nya kebantu banget. Cuma se...</td>\n",
              "      <td>3</td>\n",
              "      <td>234</td>\n",
              "      <td>1.17.00</td>\n",
              "      <td>2024-10-30 12:43:28</td>\n",
              "      <td>Hi kak, maaf banget ya udah buat kamu ga nyama...</td>\n",
              "      <td>2024-10-30 13:12:00</td>\n",
              "      <td>1.17.00</td>\n",
              "    </tr>\n",
              "    <tr>\n",
              "      <th>...</th>\n",
              "      <td>...</td>\n",
              "      <td>...</td>\n",
              "      <td>...</td>\n",
              "      <td>...</td>\n",
              "      <td>...</td>\n",
              "      <td>...</td>\n",
              "      <td>...</td>\n",
              "      <td>...</td>\n",
              "      <td>...</td>\n",
              "      <td>...</td>\n",
              "      <td>...</td>\n",
              "    </tr>\n",
              "    <tr>\n",
              "      <th>995</th>\n",
              "      <td>1e1654d1-78cb-48e9-8985-bbfd28061b6c</td>\n",
              "      <td>Ricky S</td>\n",
              "      <td>https://play-lh.googleusercontent.com/a-/ALV-U...</td>\n",
              "      <td>Sangat membantu untuk segala kebutuhan harian ...</td>\n",
              "      <td>5</td>\n",
              "      <td>0</td>\n",
              "      <td>1.17.00</td>\n",
              "      <td>2024-11-07 23:57:31</td>\n",
              "      <td>Hi kak, makasih buat komentar dan bintang 5 ny...</td>\n",
              "      <td>2024-11-08 00:08:10</td>\n",
              "      <td>1.17.00</td>\n",
              "    </tr>\n",
              "    <tr>\n",
              "      <th>996</th>\n",
              "      <td>f6ed151e-e92a-4e99-a75a-b2e5074035b5</td>\n",
              "      <td>Fajar Jr</td>\n",
              "      <td>https://play-lh.googleusercontent.com/a/ACg8oc...</td>\n",
              "      <td>Apk yang sangat rekomended bisa buat mempermud...</td>\n",
              "      <td>5</td>\n",
              "      <td>0</td>\n",
              "      <td>1.18.11</td>\n",
              "      <td>2024-12-10 04:59:53</td>\n",
              "      <td>Hi kak, makasih banget yaa buat review dan bin...</td>\n",
              "      <td>2024-12-10 05:35:27</td>\n",
              "      <td>1.18.11</td>\n",
              "    </tr>\n",
              "    <tr>\n",
              "      <th>997</th>\n",
              "      <td>82e50481-15b0-404b-94fd-717c0960ad9a</td>\n",
              "      <td>ARYL YULIANTO</td>\n",
              "      <td>https://play-lh.googleusercontent.com/a-/ALV-U...</td>\n",
              "      <td>Dipakai tranfer ga bisa, padahal sinyal bagus</td>\n",
              "      <td>1</td>\n",
              "      <td>0</td>\n",
              "      <td>1.18.11</td>\n",
              "      <td>2024-11-21 10:29:56</td>\n",
              "      <td>Haii kak, maaf ya udh bikin km kecewa terkait ...</td>\n",
              "      <td>2024-11-21 11:31:54</td>\n",
              "      <td>1.18.11</td>\n",
              "    </tr>\n",
              "    <tr>\n",
              "      <th>998</th>\n",
              "      <td>a3b849c1-8c75-49a6-b46c-326925739c66</td>\n",
              "      <td>Much Airon</td>\n",
              "      <td>https://play-lh.googleusercontent.com/a/ACg8oc...</td>\n",
              "      <td>Bagus dan tidak mengecewakan, bisa bayar apa a...</td>\n",
              "      <td>5</td>\n",
              "      <td>1</td>\n",
              "      <td>1.15.05</td>\n",
              "      <td>2024-10-06 11:47:31</td>\n",
              "      <td>Hai kak. Makasih buat review dan bintang 5 nya...</td>\n",
              "      <td>2024-10-06 12:51:01</td>\n",
              "      <td>1.15.05</td>\n",
              "    </tr>\n",
              "    <tr>\n",
              "      <th>999</th>\n",
              "      <td>68c3d6f4-5464-4f17-a1e0-c6b2cabfe441</td>\n",
              "      <td>Lalan Syafaruddin</td>\n",
              "      <td>https://play-lh.googleusercontent.com/a-/ALV-U...</td>\n",
              "      <td>Terlalu menyepelekan seseorang!masa udah 3x pe...</td>\n",
              "      <td>1</td>\n",
              "      <td>1</td>\n",
              "      <td>1.15.07</td>\n",
              "      <td>2024-10-09 05:31:36</td>\n",
              "      <td>Hi kak, maaf bgt yh udah bikin gak nyaman terk...</td>\n",
              "      <td>2024-10-09 06:32:36</td>\n",
              "      <td>1.15.07</td>\n",
              "    </tr>\n",
              "  </tbody>\n",
              "</table>\n",
              "<p>1000 rows × 11 columns</p>\n",
              "</div>\n",
              "    <div class=\"colab-df-buttons\">\n",
              "\n",
              "  <div class=\"colab-df-container\">\n",
              "    <button class=\"colab-df-convert\" onclick=\"convertToInteractive('df-dba3b91c-5491-4876-acca-cc67228eb002')\"\n",
              "            title=\"Convert this dataframe to an interactive table.\"\n",
              "            style=\"display:none;\">\n",
              "\n",
              "  <svg xmlns=\"http://www.w3.org/2000/svg\" height=\"24px\" viewBox=\"0 -960 960 960\">\n",
              "    <path d=\"M120-120v-720h720v720H120Zm60-500h600v-160H180v160Zm220 220h160v-160H400v160Zm0 220h160v-160H400v160ZM180-400h160v-160H180v160Zm440 0h160v-160H620v160ZM180-180h160v-160H180v160Zm440 0h160v-160H620v160Z\"/>\n",
              "  </svg>\n",
              "    </button>\n",
              "\n",
              "  <style>\n",
              "    .colab-df-container {\n",
              "      display:flex;\n",
              "      gap: 12px;\n",
              "    }\n",
              "\n",
              "    .colab-df-convert {\n",
              "      background-color: #E8F0FE;\n",
              "      border: none;\n",
              "      border-radius: 50%;\n",
              "      cursor: pointer;\n",
              "      display: none;\n",
              "      fill: #1967D2;\n",
              "      height: 32px;\n",
              "      padding: 0 0 0 0;\n",
              "      width: 32px;\n",
              "    }\n",
              "\n",
              "    .colab-df-convert:hover {\n",
              "      background-color: #E2EBFA;\n",
              "      box-shadow: 0px 1px 2px rgba(60, 64, 67, 0.3), 0px 1px 3px 1px rgba(60, 64, 67, 0.15);\n",
              "      fill: #174EA6;\n",
              "    }\n",
              "\n",
              "    .colab-df-buttons div {\n",
              "      margin-bottom: 4px;\n",
              "    }\n",
              "\n",
              "    [theme=dark] .colab-df-convert {\n",
              "      background-color: #3B4455;\n",
              "      fill: #D2E3FC;\n",
              "    }\n",
              "\n",
              "    [theme=dark] .colab-df-convert:hover {\n",
              "      background-color: #434B5C;\n",
              "      box-shadow: 0px 1px 3px 1px rgba(0, 0, 0, 0.15);\n",
              "      filter: drop-shadow(0px 1px 2px rgba(0, 0, 0, 0.3));\n",
              "      fill: #FFFFFF;\n",
              "    }\n",
              "  </style>\n",
              "\n",
              "    <script>\n",
              "      const buttonEl =\n",
              "        document.querySelector('#df-dba3b91c-5491-4876-acca-cc67228eb002 button.colab-df-convert');\n",
              "      buttonEl.style.display =\n",
              "        google.colab.kernel.accessAllowed ? 'block' : 'none';\n",
              "\n",
              "      async function convertToInteractive(key) {\n",
              "        const element = document.querySelector('#df-dba3b91c-5491-4876-acca-cc67228eb002');\n",
              "        const dataTable =\n",
              "          await google.colab.kernel.invokeFunction('convertToInteractive',\n",
              "                                                    [key], {});\n",
              "        if (!dataTable) return;\n",
              "\n",
              "        const docLinkHtml = 'Like what you see? Visit the ' +\n",
              "          '<a target=\"_blank\" href=https://colab.research.google.com/notebooks/data_table.ipynb>data table notebook</a>'\n",
              "          + ' to learn more about interactive tables.';\n",
              "        element.innerHTML = '';\n",
              "        dataTable['output_type'] = 'display_data';\n",
              "        await google.colab.output.renderOutput(dataTable, element);\n",
              "        const docLink = document.createElement('div');\n",
              "        docLink.innerHTML = docLinkHtml;\n",
              "        element.appendChild(docLink);\n",
              "      }\n",
              "    </script>\n",
              "  </div>\n",
              "\n",
              "\n",
              "<div id=\"df-96388c72-b8b8-42b1-b769-5d93ff885d61\">\n",
              "  <button class=\"colab-df-quickchart\" onclick=\"quickchart('df-96388c72-b8b8-42b1-b769-5d93ff885d61')\"\n",
              "            title=\"Suggest charts\"\n",
              "            style=\"display:none;\">\n",
              "\n",
              "<svg xmlns=\"http://www.w3.org/2000/svg\" height=\"24px\"viewBox=\"0 0 24 24\"\n",
              "     width=\"24px\">\n",
              "    <g>\n",
              "        <path d=\"M19 3H5c-1.1 0-2 .9-2 2v14c0 1.1.9 2 2 2h14c1.1 0 2-.9 2-2V5c0-1.1-.9-2-2-2zM9 17H7v-7h2v7zm4 0h-2V7h2v10zm4 0h-2v-4h2v4z\"/>\n",
              "    </g>\n",
              "</svg>\n",
              "  </button>\n",
              "\n",
              "<style>\n",
              "  .colab-df-quickchart {\n",
              "      --bg-color: #E8F0FE;\n",
              "      --fill-color: #1967D2;\n",
              "      --hover-bg-color: #E2EBFA;\n",
              "      --hover-fill-color: #174EA6;\n",
              "      --disabled-fill-color: #AAA;\n",
              "      --disabled-bg-color: #DDD;\n",
              "  }\n",
              "\n",
              "  [theme=dark] .colab-df-quickchart {\n",
              "      --bg-color: #3B4455;\n",
              "      --fill-color: #D2E3FC;\n",
              "      --hover-bg-color: #434B5C;\n",
              "      --hover-fill-color: #FFFFFF;\n",
              "      --disabled-bg-color: #3B4455;\n",
              "      --disabled-fill-color: #666;\n",
              "  }\n",
              "\n",
              "  .colab-df-quickchart {\n",
              "    background-color: var(--bg-color);\n",
              "    border: none;\n",
              "    border-radius: 50%;\n",
              "    cursor: pointer;\n",
              "    display: none;\n",
              "    fill: var(--fill-color);\n",
              "    height: 32px;\n",
              "    padding: 0;\n",
              "    width: 32px;\n",
              "  }\n",
              "\n",
              "  .colab-df-quickchart:hover {\n",
              "    background-color: var(--hover-bg-color);\n",
              "    box-shadow: 0 1px 2px rgba(60, 64, 67, 0.3), 0 1px 3px 1px rgba(60, 64, 67, 0.15);\n",
              "    fill: var(--button-hover-fill-color);\n",
              "  }\n",
              "\n",
              "  .colab-df-quickchart-complete:disabled,\n",
              "  .colab-df-quickchart-complete:disabled:hover {\n",
              "    background-color: var(--disabled-bg-color);\n",
              "    fill: var(--disabled-fill-color);\n",
              "    box-shadow: none;\n",
              "  }\n",
              "\n",
              "  .colab-df-spinner {\n",
              "    border: 2px solid var(--fill-color);\n",
              "    border-color: transparent;\n",
              "    border-bottom-color: var(--fill-color);\n",
              "    animation:\n",
              "      spin 1s steps(1) infinite;\n",
              "  }\n",
              "\n",
              "  @keyframes spin {\n",
              "    0% {\n",
              "      border-color: transparent;\n",
              "      border-bottom-color: var(--fill-color);\n",
              "      border-left-color: var(--fill-color);\n",
              "    }\n",
              "    20% {\n",
              "      border-color: transparent;\n",
              "      border-left-color: var(--fill-color);\n",
              "      border-top-color: var(--fill-color);\n",
              "    }\n",
              "    30% {\n",
              "      border-color: transparent;\n",
              "      border-left-color: var(--fill-color);\n",
              "      border-top-color: var(--fill-color);\n",
              "      border-right-color: var(--fill-color);\n",
              "    }\n",
              "    40% {\n",
              "      border-color: transparent;\n",
              "      border-right-color: var(--fill-color);\n",
              "      border-top-color: var(--fill-color);\n",
              "    }\n",
              "    60% {\n",
              "      border-color: transparent;\n",
              "      border-right-color: var(--fill-color);\n",
              "    }\n",
              "    80% {\n",
              "      border-color: transparent;\n",
              "      border-right-color: var(--fill-color);\n",
              "      border-bottom-color: var(--fill-color);\n",
              "    }\n",
              "    90% {\n",
              "      border-color: transparent;\n",
              "      border-bottom-color: var(--fill-color);\n",
              "    }\n",
              "  }\n",
              "</style>\n",
              "\n",
              "  <script>\n",
              "    async function quickchart(key) {\n",
              "      const quickchartButtonEl =\n",
              "        document.querySelector('#' + key + ' button');\n",
              "      quickchartButtonEl.disabled = true;  // To prevent multiple clicks.\n",
              "      quickchartButtonEl.classList.add('colab-df-spinner');\n",
              "      try {\n",
              "        const charts = await google.colab.kernel.invokeFunction(\n",
              "            'suggestCharts', [key], {});\n",
              "      } catch (error) {\n",
              "        console.error('Error during call to suggestCharts:', error);\n",
              "      }\n",
              "      quickchartButtonEl.classList.remove('colab-df-spinner');\n",
              "      quickchartButtonEl.classList.add('colab-df-quickchart-complete');\n",
              "    }\n",
              "    (() => {\n",
              "      let quickchartButtonEl =\n",
              "        document.querySelector('#df-96388c72-b8b8-42b1-b769-5d93ff885d61 button');\n",
              "      quickchartButtonEl.style.display =\n",
              "        google.colab.kernel.accessAllowed ? 'block' : 'none';\n",
              "    })();\n",
              "  </script>\n",
              "</div>\n",
              "\n",
              "    </div>\n",
              "  </div>\n"
            ],
            "application/vnd.google.colaboratory.intrinsic+json": {
              "type": "dataframe",
              "summary": "{\n  \"name\": \"pd\",\n  \"rows\": 1000,\n  \"fields\": [\n    {\n      \"column\": \"reviewId\",\n      \"properties\": {\n        \"dtype\": \"string\",\n        \"num_unique_values\": 1000,\n        \"samples\": [\n          \"6a0bb69a-6c51-426e-bbc5-253eb4341620\",\n          \"3d463843-dc72-4f13-9105-71cdfb352e29\",\n          \"d42484c4-fad6-4c39-b8b5-d89a267d1245\"\n        ],\n        \"semantic_type\": \"\",\n        \"description\": \"\"\n      }\n    },\n    {\n      \"column\": \"userName\",\n      \"properties\": {\n        \"dtype\": \"string\",\n        \"num_unique_values\": 999,\n        \"samples\": [\n          \"Hendra Wan\",\n          \"Ach Baidawi\",\n          \"karsono wa\"\n        ],\n        \"semantic_type\": \"\",\n        \"description\": \"\"\n      }\n    },\n    {\n      \"column\": \"userImage\",\n      \"properties\": {\n        \"dtype\": \"string\",\n        \"num_unique_values\": 1000,\n        \"samples\": [\n          \"https://play-lh.googleusercontent.com/a/ACg8ocIN04Cr0p1Tz7JzLDyBvbsSvEkp2SwY-RhTPv2WBJXjt_a5dg=mo\",\n          \"https://play-lh.googleusercontent.com/a/ACg8ocJP8KBRaVUmUxM7dV3dIHv48iog_c1AuuGanLxIpqXvkeI4QQ=mo\",\n          \"https://play-lh.googleusercontent.com/a/ACg8ocKWJwiOTmkYLYCHT704nRw5_AY-2Psbg7zBCLr94VpR6Hz-Dw=mo\"\n        ],\n        \"semantic_type\": \"\",\n        \"description\": \"\"\n      }\n    },\n    {\n      \"column\": \"content\",\n      \"properties\": {\n        \"dtype\": \"string\",\n        \"num_unique_values\": 1000,\n        \"samples\": [\n          \"Sangat membantu dalam segala bidang dari segi pembayaran dan perbelanjaan\",\n          \"transaksi kebutuhan sehari hari menjadi lebih mudah karna adanya shopeepay, terimakasih shopeepay\",\n          \"Sangat bermanfaat shoppepay ini bagus terus lanjutkan lagi kak say sangat suka menggunakan shoppepay\"\n        ],\n        \"semantic_type\": \"\",\n        \"description\": \"\"\n      }\n    },\n    {\n      \"column\": \"score\",\n      \"properties\": {\n        \"dtype\": \"number\",\n        \"std\": 1,\n        \"min\": 1,\n        \"max\": 5,\n        \"num_unique_values\": 5,\n        \"samples\": [\n          1,\n          4,\n          3\n        ],\n        \"semantic_type\": \"\",\n        \"description\": \"\"\n      }\n    },\n    {\n      \"column\": \"thumbsUpCount\",\n      \"properties\": {\n        \"dtype\": \"number\",\n        \"std\": 140,\n        \"min\": 0,\n        \"max\": 2782,\n        \"num_unique_values\": 124,\n        \"samples\": [\n          18,\n          12,\n          54\n        ],\n        \"semantic_type\": \"\",\n        \"description\": \"\"\n      }\n    },\n    {\n      \"column\": \"reviewCreatedVersion\",\n      \"properties\": {\n        \"dtype\": \"object\",\n        \"num_unique_values\": 17,\n        \"samples\": [\n          \"1.19.19\",\n          \"1.19.04\",\n          \"1.15.05\"\n        ],\n        \"semantic_type\": \"\",\n        \"description\": \"\"\n      }\n    },\n    {\n      \"column\": \"at\",\n      \"properties\": {\n        \"dtype\": \"date\",\n        \"min\": \"2024-07-01 02:55:56\",\n        \"max\": \"2024-12-17 17:29:06\",\n        \"num_unique_values\": 1000,\n        \"samples\": [\n          \"2024-12-06 15:17:24\",\n          \"2024-10-29 04:57:34\",\n          \"2024-11-12 23:45:22\"\n        ],\n        \"semantic_type\": \"\",\n        \"description\": \"\"\n      }\n    },\n    {\n      \"column\": \"replyContent\",\n      \"properties\": {\n        \"dtype\": \"string\",\n        \"num_unique_values\": 832,\n        \"samples\": [\n          \"Hi kak, maaf ya kak udh buat kmu kecewa. Pastikan data kmu sudah sesuai ya kak. Agar bisa aku bantu pengecekan, kakak bisa colek aku di DM @Shopee_id atau @Shopeecare. Dtunggu ya kak, stay healthy \\ud83d\\ude4f^BW\",\n          \"Hai kak, Maaf atas kendala yang kakak alami. Aaku infoin kebijakan shopee adalah satu nomor untuk satu akun ya kak, Jika nomor kakak tidak aktif aku saranin kakak mengganti nomor telpon ya. Agar aku bisa bantu cek lebih lanjut, Kakak bisa infoin detail kendala kakak melalui DM ke Social Media @Shopee_id / @Shopeecare ya. Sehat selalu^BG\",\n          \"Hi kak, maaf terkait kendala saat ingin melakukan pembayaran. aku saranin km bisa clear cache, update aplikasi ke versi terbaru, pastikan jaringan kamu stabil ya, untuk aku bisa bantu, boleh infoin ss kendala kamu ke DM IG @ShopeeCare_ID, sehat slalu\\ud83d\\ude4f ^PY\"\n        ],\n        \"semantic_type\": \"\",\n        \"description\": \"\"\n      }\n    },\n    {\n      \"column\": \"repliedAt\",\n      \"properties\": {\n        \"dtype\": \"date\",\n        \"min\": \"2024-07-01 04:19:44\",\n        \"max\": \"2024-12-17 18:32:59\",\n        \"num_unique_values\": 952,\n        \"samples\": [\n          \"2024-11-24 10:12:11\",\n          \"2024-12-02 02:37:11\",\n          \"2024-10-30 12:19:29\"\n        ],\n        \"semantic_type\": \"\",\n        \"description\": \"\"\n      }\n    },\n    {\n      \"column\": \"appVersion\",\n      \"properties\": {\n        \"dtype\": \"object\",\n        \"num_unique_values\": 17,\n        \"samples\": [\n          \"1.19.19\",\n          \"1.19.04\",\n          \"1.15.05\"\n        ],\n        \"semantic_type\": \"\",\n        \"description\": \"\"\n      }\n    }\n  ]\n}"
            }
          },
          "metadata": {},
          "execution_count": 4
        }
      ]
    },
    {
      "cell_type": "code",
      "source": [
        "# Konversi ke DataFrame\n",
        "df = pd.DataFrame(review)\n",
        "df = df[['content', 'score']]  # Ambil kolom ulasan dan skor\n",
        "df['label'] = df['score'].apply(lambda x: 'positif' if x > 3 else 'negatif')\n",
        "# Simpan ke CSV\n",
        "df.to_csv('ulasan_shopeepay.csv', index=False)\n",
        "print(\"Data berhasil disimpan.\")"
      ],
      "metadata": {
        "id": "N-0pQ0TaTLSN",
        "colab": {
          "base_uri": "https://localhost:8080/"
        },
        "outputId": "95f89f92-d103-4d01-db2d-fcb711fd068f"
      },
      "execution_count": null,
      "outputs": [
        {
          "output_type": "stream",
          "name": "stdout",
          "text": [
            "Data berhasil disimpan.\n"
          ]
        }
      ]
    },
    {
      "cell_type": "code",
      "source": [
        "# Simpan ke CSV\n",
        "df.to_csv('ulasan_shopeepay.csv', index=False)\n",
        "print(\"Data berhasil disimpan.\")"
      ],
      "metadata": {
        "colab": {
          "base_uri": "https://localhost:8080/"
        },
        "id": "oOuFC_5mTro1",
        "outputId": "32b141f7-6e7e-4488-b02b-9ffee2e72931"
      },
      "execution_count": null,
      "outputs": [
        {
          "output_type": "stream",
          "name": "stdout",
          "text": [
            "Data berhasil disimpan.\n"
          ]
        }
      ]
    },
    {
      "cell_type": "markdown",
      "source": [
        "# 2. Preprocessing Data"
      ],
      "metadata": {
        "id": "XJVKrNPFSGNu"
      }
    },
    {
      "cell_type": "code",
      "source": [
        "import re\n",
        "from sklearn.model_selection import train_test_split\n",
        "from sklearn.feature_extraction.text import TfidfVectorizer\n",
        "from sklearn.preprocessing import LabelEncoder\n",
        "from sklearn.naive_bayes import MultinomialNB\n",
        "from sklearn.svm import SVC\n",
        "from sklearn.metrics import classification_report"
      ],
      "metadata": {
        "id": "jQaizVBDSTyu"
      },
      "execution_count": null,
      "outputs": []
    },
    {
      "cell_type": "code",
      "source": [
        "# Load data\n",
        "df = pd.read_csv('ulasan_shopeepay.csv')"
      ],
      "metadata": {
        "id": "rqdpoXjJS1B1"
      },
      "execution_count": null,
      "outputs": []
    },
    {
      "cell_type": "code",
      "source": [
        "# Preprocessing\n",
        "def clean_text(text):\n",
        "    if isinstance(text, str):  # Check if text is a string\n",
        "        text = re.sub(r'[^a-zA-Z\\s]', '', text)  # Hapus karakter selain huruf\n",
        "        text = text.lower()                     # Konversi ke huruf kecil\n",
        "        return text\n",
        "    else:\n",
        "        return \"\" # Return empty string for non-string values\n",
        "\n",
        "df['clean_content'] = df['content'].apply(clean_text)"
      ],
      "metadata": {
        "id": "w0vYnLfpVK_q"
      },
      "execution_count": null,
      "outputs": []
    },
    {
      "cell_type": "code",
      "source": [
        "# Encode label\n",
        "le = LabelEncoder()\n",
        "df['label_encoded'] = le.fit_transform(df['label'])\n",
        "\n",
        "# Split data\n",
        "X_train, X_test, y_train, y_test = train_test_split(\n",
        "    df['clean_content'], df['label_encoded'], test_size=0.2, random_state=42\n",
        ")"
      ],
      "metadata": {
        "id": "95NGskIsVM5y"
      },
      "execution_count": null,
      "outputs": []
    },
    {
      "cell_type": "markdown",
      "source": [
        "# 3. Feature Extraction dan Algoritma"
      ],
      "metadata": {
        "id": "MHCmzM3aVZZi"
      }
    },
    {
      "cell_type": "code",
      "source": [
        "import matplotlib.pyplot as plt\n",
        "import seaborn as sns"
      ],
      "metadata": {
        "id": "PTNTvq_l05M-"
      },
      "execution_count": null,
      "outputs": []
    },
    {
      "cell_type": "code",
      "source": [
        "# TF-IDF\n",
        "vectorizer = TfidfVectorizer(max_features=500)\n",
        "X_train_tfidf = vectorizer.fit_transform(X_train)\n",
        "X_test_tfidf = vectorizer.transform(X_test)"
      ],
      "metadata": {
        "id": "6tc8ST7rVa4y"
      },
      "execution_count": null,
      "outputs": []
    },
    {
      "cell_type": "code",
      "source": [
        "# Model 1: Naive Bayes\n",
        "nb = MultinomialNB()\n",
        "nb.fit(X_train_tfidf, y_train)\n",
        "y_pred_nb = nb.predict(X_test_tfidf)"
      ],
      "metadata": {
        "id": "A12BlyuJVdwS"
      },
      "execution_count": null,
      "outputs": []
    },
    {
      "cell_type": "code",
      "source": [
        "# Model 2: Support Vector Machine\n",
        "svm = SVC(kernel='linear')\n",
        "svm.fit(X_train_tfidf, y_train)\n",
        "y_pred_svm = svm.predict(X_test_tfidf)"
      ],
      "metadata": {
        "id": "S66GCA3qVfB0"
      },
      "execution_count": null,
      "outputs": []
    },
    {
      "cell_type": "code",
      "source": [
        "# Assuming 'df' is your DataFrame and 'y_pred_nb' and 'y_pred_svm' are your predictions\n",
        "# Calculate the number of positive and negative reviews for each model\n",
        "nb_positif = sum(y_pred_nb)\n",
        "nb_negatif = len(y_pred_nb) - nb_positif\n",
        "svm_positif = sum(y_pred_svm)\n",
        "svm_negatif = len(y_pred_svm) - svm_positif"
      ],
      "metadata": {
        "id": "dN9bEbBIrKZq"
      },
      "execution_count": null,
      "outputs": []
    },
    {
      "cell_type": "code",
      "source": [
        "# Evaluasi\n",
        "print(\"Evaluasi Naive Bayes:\")\n",
        "print(classification_report(y_test, y_pred_nb, target_names=le.classes_))"
      ],
      "metadata": {
        "colab": {
          "base_uri": "https://localhost:8080/"
        },
        "id": "TJgx9b_XVgg6",
        "outputId": "ac71124f-6465-4032-e4b4-88172e9593e4"
      },
      "execution_count": null,
      "outputs": [
        {
          "output_type": "stream",
          "name": "stdout",
          "text": [
            "Evaluasi Naive Bayes:\n",
            "              precision    recall  f1-score   support\n",
            "\n",
            "     negatif       0.78      0.89      0.83       109\n",
            "     positif       0.84      0.70      0.77        91\n",
            "\n",
            "    accuracy                           0.81       200\n",
            "   macro avg       0.81      0.80      0.80       200\n",
            "weighted avg       0.81      0.81      0.80       200\n",
            "\n"
          ]
        }
      ]
    },
    {
      "cell_type": "code",
      "source": [
        "print(\"Evaluasi SVM:\")\n",
        "print(classification_report(y_test, y_pred_svm, target_names=le.classes_))"
      ],
      "metadata": {
        "colab": {
          "base_uri": "https://localhost:8080/"
        },
        "id": "DEsYoQp_VqEa",
        "outputId": "b24d483a-4b50-4799-caaf-7b5dea3b4cef"
      },
      "execution_count": null,
      "outputs": [
        {
          "output_type": "stream",
          "name": "stdout",
          "text": [
            "Evaluasi SVM:\n",
            "              precision    recall  f1-score   support\n",
            "\n",
            "     negatif       0.78      0.84      0.81       109\n",
            "     positif       0.79      0.71      0.75        91\n",
            "\n",
            "    accuracy                           0.79       200\n",
            "   macro avg       0.79      0.78      0.78       200\n",
            "weighted avg       0.79      0.79      0.78       200\n",
            "\n"
          ]
        }
      ]
    },
    {
      "cell_type": "code",
      "source": [
        "# Combine the plots into a single figure with subplots\n",
        "plt.figure(figsize=(12, 6))\n",
        "\n",
        "# First subplot for Naive Bayes\n",
        "plt.subplot(1, 2, 1)  # 1 row, 2 columns, first subplot\n",
        "sns.barplot(x=['Positif', 'Negatif'], y=[nb_positif, nb_negatif])\n",
        "plt.title('Sentimen Ulasan ShopeePay (Naive Bayes)')\n",
        "plt.xlabel('Sentimen')\n",
        "plt.ylabel('Jumlah Ulasan')\n",
        "\n",
        "\n",
        "# Second subplot for SVM\n",
        "plt.subplot(1, 2, 2)  # 1 row, 2 columns, second subplot\n",
        "sns.barplot(x=['Positif', 'Negatif'], y=[svm_positif, svm_negatif])\n",
        "plt.title('Sentimen Ulasan ShopeePay (SVM)')\n",
        "plt.xlabel('Sentimen')\n",
        "plt.ylabel('Jumlah Ulasan')\n",
        "\n",
        "plt.tight_layout() # Adjust layout to prevent overlapping\n",
        "plt.show()\n",
        "\n",
        "print(\"Evaluasi SVM:\")\n",
        "print(classification_report(y_test, y_pred_svm, target_names=le.classes_))"
      ],
      "metadata": {
        "colab": {
          "base_uri": "https://localhost:8080/",
          "height": 798
        },
        "id": "Sqxx18Bk1U5v",
        "outputId": "6deba9cc-d274-48af-8f22-b31130c051c0"
      },
      "execution_count": null,
      "outputs": [
        {
          "output_type": "display_data",
          "data": {
            "text/plain": [
              "<Figure size 640x480 with 0 Axes>"
            ]
          },
          "metadata": {}
        },
        {
          "output_type": "display_data",
          "data": {
            "text/plain": [
              "<Figure size 1200x600 with 2 Axes>"
            ],
            "image/png": "[encoded data removed]"
          },
          "metadata": {}
        },
        {
          "output_type": "stream",
          "name": "stdout",
          "text": [
            "Evaluasi SVM:\n",
            "              precision    recall  f1-score   support\n",
            "\n",
            "     negatif       0.78      0.84      0.81       109\n",
            "     positif       0.79      0.71      0.75        91\n",
            "\n",
            "    accuracy                           0.79       200\n",
            "   macro avg       0.79      0.78      0.78       200\n",
            "weighted avg       0.79      0.79      0.78       200\n",
            "\n"
          ]
        }
      ]
    },
    {
      "cell_type": "markdown",
      "source": [
        "# 4. Skenario Eksperimen"
      ],
      "metadata": {
        "id": "OL3jfQYfZAx-"
      }
    },
    {
      "cell_type": "markdown",
      "source": [
        "\n",
        "Skenario 1: Menggunakan TF-IDF dan Naive Bayes.\n",
        "\n",
        "Skenario 2: Menggunakan TF-IDF dan SVM.\n",
        "\n",
        "Skenario 3: Menggunakan Bag-of-Words dan Naive Bayes.\n",
        "\n",
        "Skenario 4: Menggunakan Bag-of-Words dan SVM.\n"
      ],
      "metadata": {
        "id": "RoYkWf6uZFwm"
      }
    },
    {
      "cell_type": "markdown",
      "source": [
        "## Persiapan Data"
      ],
      "metadata": {
        "id": "b0-sW3gtZgUP"
      }
    },
    {
      "cell_type": "code",
      "source": [
        "import pandas as pd\n",
        "import re\n",
        "from sklearn.model_selection import train_test_split\n",
        "from sklearn.feature_extraction.text import TfidfVectorizer, CountVectorizer\n",
        "from sklearn.naive_bayes import MultinomialNB\n",
        "from sklearn.svm import SVC\n",
        "from sklearn.metrics import classification_report\n",
        "from sklearn.preprocessing import LabelEncoder"
      ],
      "metadata": {
        "id": "9hQryI0lZGON"
      },
      "execution_count": null,
      "outputs": []
    },
    {
      "cell_type": "code",
      "source": [
        "# Load Data\n",
        "df = pd.read_csv('ulasan_shopeepay.csv')"
      ],
      "metadata": {
        "id": "nD-SazxEZZt1"
      },
      "execution_count": null,
      "outputs": []
    },
    {
      "cell_type": "code",
      "source": [
        "# Preprocessing\n",
        "def clean_text(text):\n",
        "    text = re.sub(r'[^a-zA-Z\\s]', '', text)  # Hapus karakter selain huruf\n",
        "    text = text.lower()                     # Konversi ke huruf kecil\n",
        "    return text\n",
        "\n",
        "df['clean_content'] = df['content'].apply(clean_text)"
      ],
      "metadata": {
        "id": "FymCsukwZla9"
      },
      "execution_count": null,
      "outputs": []
    },
    {
      "cell_type": "code",
      "source": [
        "# Label Encoding\n",
        "le = LabelEncoder()\n",
        "df['label_encoded'] = le.fit_transform(df['label'])  # positif: 1, negatif: 0"
      ],
      "metadata": {
        "id": "M22kFz5pZmYd"
      },
      "execution_count": null,
      "outputs": []
    },
    {
      "cell_type": "code",
      "source": [
        "# Split Data\n",
        "X_train, X_test, y_train, y_test = train_test_split(\n",
        "    df['clean_content'], df['label_encoded'], test_size=0.2, random_state=42\n",
        ")"
      ],
      "metadata": {
        "id": "n7jIzw5WZpHG"
      },
      "execution_count": null,
      "outputs": []
    },
    {
      "cell_type": "markdown",
      "source": [
        "## Skenario 1: Menggunakan TF-IDF dan Naive Bayes."
      ],
      "metadata": {
        "id": "HT7BHN6uZtll"
      }
    },
    {
      "cell_type": "code",
      "source": [
        "# TF-IDF\n",
        "tfidf_vectorizer = TfidfVectorizer(max_features=500)\n",
        "X_train_tfidf = tfidf_vectorizer.fit_transform(X_train)\n",
        "X_test_tfidf = tfidf_vectorizer.transform(X_test)"
      ],
      "metadata": {
        "id": "-MsTAL45ZzPF"
      },
      "execution_count": null,
      "outputs": []
    },
    {
      "cell_type": "code",
      "source": [
        "# Naive Bayes\n",
        "nb = MultinomialNB()\n",
        "nb.fit(X_train_tfidf, y_train)\n",
        "y_pred_nb_tfidf = nb.predict(X_test_tfidf)"
      ],
      "metadata": {
        "id": "Qj0AlbkPaBYs"
      },
      "execution_count": null,
      "outputs": []
    },
    {
      "cell_type": "code",
      "source": [
        "# Evaluasi\n",
        "print(\"Skenario 1: TF-IDF + Naive Bayes\")\n",
        "print(classification_report(y_test, y_pred_nb_tfidf, target_names=le.classes_))"
      ],
      "metadata": {
        "colab": {
          "base_uri": "https://localhost:8080/"
        },
        "id": "OLI8pBZ4aD4U",
        "outputId": "31e68612-edeb-43d2-f3a2-4ebbbbf18865"
      },
      "execution_count": null,
      "outputs": [
        {
          "output_type": "stream",
          "name": "stdout",
          "text": [
            "Skenario 1: TF-IDF + Naive Bayes\n",
            "              precision    recall  f1-score   support\n",
            "\n",
            "     negatif       0.78      0.89      0.83       109\n",
            "     positif       0.84      0.70      0.77        91\n",
            "\n",
            "    accuracy                           0.81       200\n",
            "   macro avg       0.81      0.80      0.80       200\n",
            "weighted avg       0.81      0.81      0.80       200\n",
            "\n"
          ]
        }
      ]
    },
    {
      "cell_type": "markdown",
      "source": [
        "## Skenario 2: Menggunakan TF-IDF dan SVM"
      ],
      "metadata": {
        "id": "Q_KNLyeAaF2s"
      }
    },
    {
      "cell_type": "code",
      "source": [
        "# SVM\n",
        "svm = SVC(kernel='linear')\n",
        "svm.fit(X_train_tfidf, y_train)\n",
        "y_pred_svm_tfidf = svm.predict(X_test_tfidf)"
      ],
      "metadata": {
        "id": "5JW8jRgdaHJE"
      },
      "execution_count": null,
      "outputs": []
    },
    {
      "cell_type": "code",
      "source": [
        "# Evaluasi\n",
        "print(\"Skenario 2: TF-IDF + SVM\")\n",
        "print(classification_report(y_test, y_pred_svm_tfidf, target_names=le.classes_))"
      ],
      "metadata": {
        "colab": {
          "base_uri": "https://localhost:8080/"
        },
        "id": "ddsGr5L4aJjU",
        "outputId": "6f822459-c29e-459f-e606-83d5751930c5"
      },
      "execution_count": null,
      "outputs": [
        {
          "output_type": "stream",
          "name": "stdout",
          "text": [
            "Skenario 2: TF-IDF + SVM\n",
            "              precision    recall  f1-score   support\n",
            "\n",
            "     negatif       0.78      0.84      0.81       109\n",
            "     positif       0.79      0.71      0.75        91\n",
            "\n",
            "    accuracy                           0.79       200\n",
            "   macro avg       0.79      0.78      0.78       200\n",
            "weighted avg       0.79      0.79      0.78       200\n",
            "\n"
          ]
        }
      ]
    },
    {
      "cell_type": "markdown",
      "source": [
        "## Skenario 3: Menggunakan Bag-of-Words dan Naive Bayes"
      ],
      "metadata": {
        "id": "QTuG3jZMaLJt"
      }
    },
    {
      "cell_type": "code",
      "source": [
        "# Bag-of-Words\n",
        "bow_vectorizer = CountVectorizer(max_features=500)\n",
        "X_train_bow = bow_vectorizer.fit_transform(X_train)\n",
        "X_test_bow = bow_vectorizer.transform(X_test)"
      ],
      "metadata": {
        "id": "JW5nzIcAaM70"
      },
      "execution_count": null,
      "outputs": []
    },
    {
      "cell_type": "code",
      "source": [
        "# Naive Bayes\n",
        "nb_bow = MultinomialNB()\n",
        "nb_bow.fit(X_train_bow, y_train)\n",
        "y_pred_nb_bow = nb_bow.predict(X_test_bow)"
      ],
      "metadata": {
        "id": "Wu8xYh6caPwd"
      },
      "execution_count": null,
      "outputs": []
    },
    {
      "cell_type": "code",
      "source": [
        "# Evaluasi\n",
        "print(\"Skenario 3: Bag-of-Words + Naive Bayes\")\n",
        "print(classification_report(y_test, y_pred_nb_bow, target_names=le.classes_))"
      ],
      "metadata": {
        "colab": {
          "base_uri": "https://localhost:8080/"
        },
        "id": "GxPKjpY9aQ9M",
        "outputId": "bf1d4549-964d-4033-ec66-dfea850015ae"
      },
      "execution_count": null,
      "outputs": [
        {
          "output_type": "stream",
          "name": "stdout",
          "text": [
            "Skenario 3: Bag-of-Words + Naive Bayes\n",
            "              precision    recall  f1-score   support\n",
            "\n",
            "     negatif       0.78      0.83      0.81       109\n",
            "     positif       0.79      0.73      0.75        91\n",
            "\n",
            "    accuracy                           0.79       200\n",
            "   macro avg       0.79      0.78      0.78       200\n",
            "weighted avg       0.79      0.79      0.78       200\n",
            "\n"
          ]
        }
      ]
    },
    {
      "cell_type": "markdown",
      "source": [
        "## Skenario 4: Menggunakan Bag-of-Words dan SVM"
      ],
      "metadata": {
        "id": "RJaT0ZlqaUbl"
      }
    },
    {
      "cell_type": "code",
      "source": [
        "# SVM\n",
        "svm_bow = SVC(kernel='linear')\n",
        "svm_bow.fit(X_train_bow, y_train)\n",
        "y_pred_svm_bow = svm_bow.predict(X_test_bow)"
      ],
      "metadata": {
        "id": "vKNfkzIYaWwk"
      },
      "execution_count": null,
      "outputs": []
    },
    {
      "cell_type": "code",
      "source": [
        "# Evaluasi\n",
        "print(\"Skenario 4: Bag-of-Words + SVM\")\n",
        "print(classification_report(y_test, y_pred_svm_bow, target_names=le.classes_))"
      ],
      "metadata": {
        "colab": {
          "base_uri": "https://localhost:8080/"
        },
        "id": "N5DVyRkCaYML",
        "outputId": "9e758758-a943-4c30-811c-99a1fd552f88"
      },
      "execution_count": null,
      "outputs": [
        {
          "output_type": "stream",
          "name": "stdout",
          "text": [
            "Skenario 4: Bag-of-Words + SVM\n",
            "              precision    recall  f1-score   support\n",
            "\n",
            "     negatif       0.79      0.72      0.76       109\n",
            "     positif       0.70      0.77      0.73        91\n",
            "\n",
            "    accuracy                           0.74       200\n",
            "   macro avg       0.74      0.75      0.74       200\n",
            "weighted avg       0.75      0.74      0.75       200\n",
            "\n"
          ]
        }
      ]
    },
    {
      "cell_type": "markdown",
      "source": [
        "## Output"
      ],
      "metadata": {
        "id": "huB-ODCzagQF"
      }
    },
    {
      "cell_type": "markdown",
      "source": [
        "- Skenario 1: TF-IDF + Naive Bayes → Akurasi dan evaluasi performa ditampilkan.\n",
        "- Skenario 2: TF-IDF + SVM → Akurasi dan evaluasi performa ditampilkan.\n",
        "- Skenario 3: Bag-of-Words + Naive Bayes → Akurasi dan evaluasi performa ditampilkan.\n",
        "- Skenario 4: Bag-of-Words + SVM → Akurasi dan evaluasi performa ditampilkan.\n",
        "\n",
        "Setiap skenario menghasilkan laporan klasifikasi lengkap dengan metrik precision, recall, f1-score, dan akurasi."
      ],
      "metadata": {
        "id": "AruIXDJ9aiwF"
      }
    },
    {
      "cell_type": "markdown",
      "source": [
        "**Penjelasan**\n",
        "- TF-IDF (Term Frequency-Inverse Document Frequency): Mengukur bobot kata berdasarkan frekuensi relatif dalam dokumen.\n",
        "- Bag-of-Words: Representasi sederhana berdasarkan jumlah kemunculan kata.\n",
        "- Naive Bayes: Algoritma probabilistik yang cepat dan efisien untuk teks.\n",
        "- SVM: Algoritma yang bekerja baik untuk data dengan dimensi tinggi seperti teks.\n"
      ],
      "metadata": {
        "id": "3r1sCvoDatRE"
      }
    },
    {
      "cell_type": "markdown",
      "source": [
        "# 5. Deployment dengan Streamlit"
      ],
      "metadata": {
        "id": "blp54BCAVuCK"
      }
    },
    {
      "cell_type": "code",
      "source": [
        "!pip install streamlit"
      ],
      "metadata": {
        "colab": {
          "base_uri": "https://localhost:8080/"
        },
        "id": "HHgHqxeOVvHS",
        "outputId": "dea19128-6e28-4f14-f59c-6ad77fb6c4b2"
      },
      "execution_count": null,
      "outputs": [
        {
          "output_type": "stream",
          "name": "stdout",
          "text": [
            "Collecting streamlit\n",
            "  Downloading streamlit-1.41.1-py2.py3-none-any.whl.metadata (8.5 kB)\n",
            "Requirement already satisfied: altair<6,>=4.0 in /usr/local/lib/python3.10/dist-packages (from streamlit) (5.5.0)\n",
            "Requirement already satisfied: blinker<2,>=1.0.0 in /usr/local/lib/python3.10/dist-packages (from streamlit) (1.9.0)\n",
            "Requirement already satisfied: cachetools<6,>=4.0 in /usr/local/lib/python3.10/dist-packages (from streamlit) (5.5.0)\n",
            "Requirement already satisfied: click<9,>=7.0 in /usr/local/lib/python3.10/dist-packages (from streamlit) (8.1.7)\n",
            "Requirement already satisfied: numpy<3,>=1.23 in /usr/local/lib/python3.10/dist-packages (from streamlit) (1.26.4)\n",
            "Requirement already satisfied: packaging<25,>=20 in /usr/local/lib/python3.10/dist-packages (from streamlit) (24.2)\n",
            "Requirement already satisfied: pandas<3,>=1.4.0 in /usr/local/lib/python3.10/dist-packages (from streamlit) (2.2.2)\n",
            "Requirement already satisfied: pillow<12,>=7.1.0 in /usr/local/lib/python3.10/dist-packages (from streamlit) (11.0.0)\n",
            "Requirement already satisfied: protobuf<6,>=3.20 in /usr/local/lib/python3.10/dist-packages (from streamlit) (4.25.5)\n",
            "Requirement already satisfied: pyarrow>=7.0 in /usr/local/lib/python3.10/dist-packages (from streamlit) (17.0.0)\n",
            "Requirement already satisfied: requests<3,>=2.27 in /usr/local/lib/python3.10/dist-packages (from streamlit) (2.32.3)\n",
            "Requirement already satisfied: rich<14,>=10.14.0 in /usr/local/lib/python3.10/dist-packages (from streamlit) (13.9.4)\n",
            "Requirement already satisfied: tenacity<10,>=8.1.0 in /usr/local/lib/python3.10/dist-packages (from streamlit) (9.0.0)\n",
            "Requirement already satisfied: toml<2,>=0.10.1 in /usr/local/lib/python3.10/dist-packages (from streamlit) (0.10.2)\n",
            "Requirement already satisfied: typing-extensions<5,>=4.3.0 in /usr/local/lib/python3.10/dist-packages (from streamlit) (4.12.2)\n",
            "Collecting watchdog<7,>=2.1.5 (from streamlit)\n",
            "  Downloading watchdog-6.0.0-py3-none-manylinux2014_x86_64.whl.metadata (44 kB)\n",
            "\u001b[2K     \u001b[90m━━━━━━━━━━━━━━━━━━━━━━━━━━━━━━━━━━━━━━━━\u001b[0m \u001b[32m44.3/44.3 kB\u001b[0m \u001b[31m1.9 MB/s\u001b[0m eta \u001b[36m0:00:00\u001b[0m\n",
            "\u001b[?25hRequirement already satisfied: gitpython!=3.1.19,<4,>=3.0.7 in /usr/local/lib/python3.10/dist-packages (from streamlit) (3.1.43)\n",
            "Collecting pydeck<1,>=0.8.0b4 (from streamlit)\n",
            "  Downloading pydeck-0.9.1-py2.py3-none-any.whl.metadata (4.1 kB)\n",
            "Requirement already satisfied: tornado<7,>=6.0.3 in /usr/local/lib/python3.10/dist-packages (from streamlit) (6.3.3)\n",
            "Requirement already satisfied: jinja2 in /usr/local/lib/python3.10/dist-packages (from altair<6,>=4.0->streamlit) (3.1.4)\n",
            "Requirement already satisfied: jsonschema>=3.0 in /usr/local/lib/python3.10/dist-packages (from altair<6,>=4.0->streamlit) (4.23.0)\n",
            "Requirement already satisfied: narwhals>=1.14.2 in /usr/local/lib/python3.10/dist-packages (from altair<6,>=4.0->streamlit) (1.18.4)\n",
            "Requirement already satisfied: gitdb<5,>=4.0.1 in /usr/local/lib/python3.10/dist-packages (from gitpython!=3.1.19,<4,>=3.0.7->streamlit) (4.0.11)\n",
            "Requirement already satisfied: python-dateutil>=2.8.2 in /usr/local/lib/python3.10/dist-packages (from pandas<3,>=1.4.0->streamlit) (2.8.2)\n",
            "Requirement already satisfied: pytz>=2020.1 in /usr/local/lib/python3.10/dist-packages (from pandas<3,>=1.4.0->streamlit) (2024.2)\n",
            "Requirement already satisfied: tzdata>=2022.7 in /usr/local/lib/python3.10/dist-packages (from pandas<3,>=1.4.0->streamlit) (2024.2)\n",
            "Requirement already satisfied: charset-normalizer<4,>=2 in /usr/local/lib/python3.10/dist-packages (from requests<3,>=2.27->streamlit) (3.4.0)\n",
            "Requirement already satisfied: idna<4,>=2.5 in /usr/local/lib/python3.10/dist-packages (from requests<3,>=2.27->streamlit) (3.10)\n",
            "Requirement already satisfied: urllib3<3,>=1.21.1 in /usr/local/lib/python3.10/dist-packages (from requests<3,>=2.27->streamlit) (2.2.3)\n",
            "Requirement already satisfied: certifi>=2017.4.17 in /usr/local/lib/python3.10/dist-packages (from requests<3,>=2.27->streamlit) (2024.12.14)\n",
            "Requirement already satisfied: markdown-it-py>=2.2.0 in /usr/local/lib/python3.10/dist-packages (from rich<14,>=10.14.0->streamlit) (3.0.0)\n",
            "Requirement already satisfied: pygments<3.0.0,>=2.13.0 in /usr/local/lib/python3.10/dist-packages (from rich<14,>=10.14.0->streamlit) (2.18.0)\n",
            "Requirement already satisfied: smmap<6,>=3.0.1 in /usr/local/lib/python3.10/dist-packages (from gitdb<5,>=4.0.1->gitpython!=3.1.19,<4,>=3.0.7->streamlit) (5.0.1)\n",
            "Requirement already satisfied: MarkupSafe>=2.0 in /usr/local/lib/python3.10/dist-packages (from jinja2->altair<6,>=4.0->streamlit) (3.0.2)\n",
            "Requirement already satisfied: attrs>=22.2.0 in /usr/local/lib/python3.10/dist-packages (from jsonschema>=3.0->altair<6,>=4.0->streamlit) (24.3.0)\n",
            "Requirement already satisfied: jsonschema-specifications>=2023.03.6 in /usr/local/lib/python3.10/dist-packages (from jsonschema>=3.0->altair<6,>=4.0->streamlit) (2024.10.1)\n",
            "Requirement already satisfied: referencing>=0.28.4 in /usr/local/lib/python3.10/dist-packages (from jsonschema>=3.0->altair<6,>=4.0->streamlit) (0.35.1)\n",
            "Requirement already satisfied: rpds-py>=0.7.1 in /usr/local/lib/python3.10/dist-packages (from jsonschema>=3.0->altair<6,>=4.0->streamlit) (0.22.3)\n",
            "Requirement already satisfied: mdurl~=0.1 in /usr/local/lib/python3.10/dist-packages (from markdown-it-py>=2.2.0->rich<14,>=10.14.0->streamlit) (0.1.2)\n",
            "Requirement already satisfied: six>=1.5 in /usr/local/lib/python3.10/dist-packages (from python-dateutil>=2.8.2->pandas<3,>=1.4.0->streamlit) (1.17.0)\n",
            "Downloading streamlit-1.41.1-py2.py3-none-any.whl (9.1 MB)\n",
            "\u001b[2K   \u001b[90m━━━━━━━━━━━━━━━━━━━━━━━━━━━━━━━━━━━━━━━━\u001b[0m \u001b[32m9.1/9.1 MB\u001b[0m \u001b[31m61.5 MB/s\u001b[0m eta \u001b[36m0:00:00\u001b[0m\n",
            "\u001b[?25hDownloading pydeck-0.9.1-py2.py3-none-any.whl (6.9 MB)\n",
            "\u001b[2K   \u001b[90m━━━━━━━━━━━━━━━━━━━━━━━━━━━━━━━━━━━━━━━━\u001b[0m \u001b[32m6.9/6.9 MB\u001b[0m \u001b[31m77.1 MB/s\u001b[0m eta \u001b[36m0:00:00\u001b[0m\n",
            "\u001b[?25hDownloading watchdog-6.0.0-py3-none-manylinux2014_x86_64.whl (79 kB)\n",
            "\u001b[2K   \u001b[90m━━━━━━━━━━━━━━━━━━━━━━━━━━━━━━━━━━━━━━━━\u001b[0m \u001b[32m79.1/79.1 kB\u001b[0m \u001b[31m4.8 MB/s\u001b[0m eta \u001b[36m0:00:00\u001b[0m\n",
            "\u001b[?25hInstalling collected packages: watchdog, pydeck, streamlit\n",
            "Successfully installed pydeck-0.9.1 streamlit-1.41.1 watchdog-6.0.0\n"
          ]
        }
      ]
    },
    {
      "cell_type": "code",
      "source": [
        "import streamlit as st\n",
        "import pandas as pd\n",
        "import re\n",
        "from sklearn.feature_extraction.text import TfidfVectorizer\n",
        "from sklearn.naive_bayes import MultinomialNB\n",
        "from sklearn.model_selection import train_test_split\n",
        "from sklearn.svm import SVC\n",
        "from sklearn.metrics import classification_report"
      ],
      "metadata": {
        "id": "kGeeJ-KlVwGW"
      },
      "execution_count": null,
      "outputs": []
    },
    {
      "cell_type": "markdown",
      "source": [
        "Cek apakah kolom clean_content sudah ada di DataFrame:"
      ],
      "metadata": {
        "id": "DBpqVtzPWF2C"
      }
    },
    {
      "cell_type": "code",
      "source": [
        "print(df.columns)\n",
        "print(df.head())\n",
        "X = df['clean_content']\n",
        "y = df['label_encoded']"
      ],
      "metadata": {
        "colab": {
          "base_uri": "https://localhost:8080/"
        },
        "id": "vOZdUzUMWDhy",
        "outputId": "f7f29547-f9bd-43e4-feb2-1cdfe1f0c5c4"
      },
      "execution_count": null,
      "outputs": [
        {
          "output_type": "stream",
          "name": "stdout",
          "text": [
            "Index(['content', 'score', 'label', 'clean_content', 'label_encoded'], dtype='object')\n",
            "                                             content  score    label  \\\n",
            "0  Mudah dalam pembayaran/transaksi. Tranfer bang...      5  positif   \n",
            "1  aplikasi nya mudah di gunakan untung pemula da...      5  positif   \n",
            "2  Saya punya banyak pay later, ada aku laku, kre...      1  negatif   \n",
            "3  Saya kecéwa dengan shoppee pay ini masa saya t...      1  negatif   \n",
            "4  Oke sih, paylatter nya kebantu banget. Cuma se...      3  negatif   \n",
            "\n",
            "                                       clean_content  label_encoded  \n",
            "0  mudah dalam pembayarantransaksi tranfer bang m...              1  \n",
            "1  aplikasi nya mudah di gunakan untung pemula da...              1  \n",
            "2  saya punya banyak pay later ada aku laku kredi...              0  \n",
            "3  saya kecwa dengan shoppee pay ini masa saya tr...              0  \n",
            "4  oke sih paylatter nya kebantu banget cuma seri...              0  \n"
          ]
        }
      ]
    },
    {
      "cell_type": "code",
      "source": [
        "# Pisahkan data menjadi fitur (X) dan label (y)\n",
        "X = df['clean_content']\n",
        "y = df['label_encoded']"
      ],
      "metadata": {
        "id": "ngfunSATV1PC"
      },
      "execution_count": null,
      "outputs": []
    },
    {
      "cell_type": "code",
      "source": [
        "# Split data\n",
        "X_train, X_test, y_train, y_test = train_test_split(X, y, test_size=0.2, random_state=42)\n",
        "print(\"Data berhasil di-split.\")"
      ],
      "metadata": {
        "colab": {
          "base_uri": "https://localhost:8080/"
        },
        "id": "eMhzb65NWbsS",
        "outputId": "d28c070e-a95b-4bd6-ce35-c74f1bb569e9"
      },
      "execution_count": null,
      "outputs": [
        {
          "output_type": "stream",
          "name": "stdout",
          "text": [
            "Data berhasil di-split.\n"
          ]
        }
      ]
    },
    {
      "cell_type": "code",
      "source": [
        "# TF-IDF Feature Extraction\n",
        "vectorizer = TfidfVectorizer(max_features=500)\n",
        "X_train_tfidf = vectorizer.fit_transform(X_train)\n",
        "X_test_tfidf = vectorizer.transform(X_test)"
      ],
      "metadata": {
        "id": "8LZDkLFLWvsR"
      },
      "execution_count": null,
      "outputs": []
    },
    {
      "cell_type": "code",
      "source": [
        "# Model 1: Naive Bayes\n",
        "nb = MultinomialNB()\n",
        "nb.fit(X_train_tfidf, y_train)\n",
        "y_pred_nb = nb.predict(X_test_tfidf)"
      ],
      "metadata": {
        "id": "wA_OQz8fWxGZ"
      },
      "execution_count": null,
      "outputs": []
    },
    {
      "cell_type": "code",
      "source": [
        "# Model 2: Support Vector Machine\n",
        "svm = SVC(kernel='linear')\n",
        "svm.fit(X_train_tfidf, y_train)\n",
        "y_pred_svm = svm.predict(X_test_tfidf)"
      ],
      "metadata": {
        "id": "FYnMuIVcWyRo"
      },
      "execution_count": null,
      "outputs": []
    },
    {
      "cell_type": "code",
      "source": [
        "# Evaluasi Model\n",
        "print(\"Evaluasi Naive Bayes:\")\n",
        "print(classification_report(y_test, y_pred_nb, target_names=['negatif', 'positif']))\n",
        "\n",
        "print(\"Evaluasi SVM:\")\n",
        "print(classification_report(y_test, y_pred_svm, target_names=['negatif', 'positif']))"
      ],
      "metadata": {
        "colab": {
          "base_uri": "https://localhost:8080/"
        },
        "id": "8DL2MNS6Wz5i",
        "outputId": "144b4dfc-3676-48cc-bddd-d578acb2dcb4"
      },
      "execution_count": null,
      "outputs": [
        {
          "output_type": "stream",
          "name": "stdout",
          "text": [
            "Evaluasi Naive Bayes:\n",
            "              precision    recall  f1-score   support\n",
            "\n",
            "     negatif       0.78      0.89      0.83       109\n",
            "     positif       0.84      0.70      0.77        91\n",
            "\n",
            "    accuracy                           0.81       200\n",
            "   macro avg       0.81      0.80      0.80       200\n",
            "weighted avg       0.81      0.81      0.80       200\n",
            "\n",
            "Evaluasi SVM:\n",
            "              precision    recall  f1-score   support\n",
            "\n",
            "     negatif       0.78      0.84      0.81       109\n",
            "     positif       0.79      0.71      0.75        91\n",
            "\n",
            "    accuracy                           0.79       200\n",
            "   macro avg       0.79      0.78      0.78       200\n",
            "weighted avg       0.79      0.79      0.78       200\n",
            "\n"
          ]
        }
      ]
    },
    {
      "cell_type": "markdown",
      "source": [
        "# 6. Visualisasi Data"
      ],
      "metadata": {
        "id": "w7Tao3y2GyrT"
      }
    },
    {
      "cell_type": "code",
      "source": [
        "import matplotlib.pyplot as plt"
      ],
      "metadata": {
        "id": "HGbcqvDGG8rz"
      },
      "execution_count": null,
      "outputs": []
    },
    {
      "cell_type": "markdown",
      "source": [
        "**1. Performa Model (Confusion Matrix)**\n",
        "\n",
        "**Penjelasan Confusion Matrix**\n",
        "* True Positive (TP): Ulasan positif yang benar terdeteksi sebagai positif.\n",
        "* True Negative (TN): Ulasan negatif yang benar terdeteksi sebagai negatif.\n",
        "* False Positive (FP): Ulasan negatif yang salah diklasifikasikan sebagai positif.\n",
        "* False Negative (FN): Ulasan positif yang salah diklasifikasikan sebagai negatif.\n",
        "\n",
        "**Confusion Matrix membantu:**\n",
        "Mengidentifikasi pola kesalahan model, seperti salah klasifikasi ulasan.\n",
        "Membandingkan performa model Naive Bayes dan SVM pada deteksi ulasan positif dan negatif.\n",
        "\n"
      ],
      "metadata": {
        "id": "kiooRAT6G_6m"
      }
    },
    {
      "cell_type": "code",
      "source": [
        "from sklearn.metrics import confusion_matrix, ConfusionMatrixDisplay"
      ],
      "metadata": {
        "id": "v3rAMTVtHB0h"
      },
      "execution_count": null,
      "outputs": []
    },
    {
      "cell_type": "code",
      "source": [
        "# Confusion matrix untuk Naive Bayes\n",
        "cm_nb = confusion_matrix(y_test, y_pred_nb)\n",
        "disp_nb = ConfusionMatrixDisplay(confusion_matrix=cm_nb, display_labels=['Negatif', 'Positif'])\n",
        "disp_nb.plot(cmap='Blues')\n",
        "plt.title('Confusion Matrix - Naive Bayes')\n",
        "plt.show()\n",
        "st.pyplot(plt)  # Use st.pyplot() to display the plot"
      ],
      "metadata": {
        "colab": {
          "base_uri": "https://localhost:8080/",
          "height": 646
        },
        "id": "5BVbSIP1HLfQ",
        "outputId": "e19c6c54-1949-4564-8ea7-3f1a134e8773"
      },
      "execution_count": null,
      "outputs": [
        {
          "output_type": "display_data",
          "data": {
            "text/plain": [
              "<Figure size 640x480 with 2 Axes>"
            ],
            "image/png": "[encoded data removed]"
          },
          "metadata": {}
        },
        {
          "output_type": "stream",
          "name": "stderr",
          "text": [
            "2024-12-19 17:05:05.216 WARNING streamlit.runtime.scriptrunner_utils.script_run_context: Thread 'MainThread': missing ScriptRunContext! This warning can be ignored when running in bare mode.\n",
            "2024-12-19 17:05:05.635 WARNING streamlit.runtime.scriptrunner_utils.script_run_context: Thread 'MainThread': missing ScriptRunContext! This warning can be ignored when running in bare mode.\n",
            "2024-12-19 17:05:06.720 \n",
            "  \u001b[33m\u001b[1mWarning:\u001b[0m to view this Streamlit app on a browser, run it with the following\n",
            "  command:\n",
            "\n",
            "    streamlit run /usr/local/lib/python3.10/dist-packages/colab_kernel_launcher.py [ARGUMENTS]\n",
            "2024-12-19 17:05:06.733 Thread 'MainThread': missing ScriptRunContext! This warning can be ignored when running in bare mode.\n"
          ]
        },
        {
          "output_type": "execute_result",
          "data": {
            "text/plain": [
              "DeltaGenerator()"
            ]
          },
          "metadata": {},
          "execution_count": 49
        },
        {
          "output_type": "display_data",
          "data": {
            "text/plain": [
              "<Figure size 640x480 with 0 Axes>"
            ]
          },
          "metadata": {}
        }
      ]
    },
    {
      "cell_type": "code",
      "source": [
        "# Confusion matrix untuk SVM\n",
        "cm_svm = confusion_matrix(y_test, y_pred_svm)\n",
        "disp_svm = ConfusionMatrixDisplay(confusion_matrix=cm_svm, display_labels=['Negatif', 'Positif'])\n",
        "disp_svm.plot(cmap='Blues')\n",
        "plt.title('Confusion Matrix - SVM')\n",
        "plt.show()\n",
        "st.pyplot(plt)  # Use st.pyplot() to display the plot"
      ],
      "metadata": {
        "colab": {
          "base_uri": "https://localhost:8080/",
          "height": 541
        },
        "id": "2LmkIQMOHPJD",
        "outputId": "e615b999-325b-443d-e768-2b725651ce0f"
      },
      "execution_count": null,
      "outputs": [
        {
          "output_type": "display_data",
          "data": {
            "text/plain": [
              "<Figure size 640x480 with 2 Axes>"
            ],
            "image/png": "[encoded data removed]"
          },
          "metadata": {}
        },
        {
          "output_type": "stream",
          "name": "stderr",
          "text": [
            "2024-12-19 17:05:11.129 Thread 'MainThread': missing ScriptRunContext! This warning can be ignored when running in bare mode.\n",
            "2024-12-19 17:05:11.755 Thread 'MainThread': missing ScriptRunContext! This warning can be ignored when running in bare mode.\n",
            "2024-12-19 17:05:11.779 Thread 'MainThread': missing ScriptRunContext! This warning can be ignored when running in bare mode.\n"
          ]
        },
        {
          "output_type": "execute_result",
          "data": {
            "text/plain": [
              "DeltaGenerator()"
            ]
          },
          "metadata": {},
          "execution_count": 50
        }
      ]
    },
    {
      "cell_type": "markdown",
      "source": [
        "**Confusion Matrix - Naive Bayes**\n",
        "* True Negatives (TN): 97 ulasan negatif terklasifikasi dengan benar.\n",
        "* True Positives (TP): 64 ulasan positif terklasifikasi dengan benar.\n",
        "* False Positives (FP): 12 ulasan negatif salah diklasifikasikan sebagai positif.\n",
        "* False Negatives (FN): 27 ulasan positif salah diklasifikasikan sebagai negatif.\n",
        "\n",
        "**Confusion Matrix - SVM**\n",
        "* True Negatives (TN): 92 ulasan negatif terklasifikasi dengan benar.\n",
        "* True Positives (TP): 65 ulasan positif terklasifikasi dengan benar.\n",
        "* False Positives (FP): 17 ulasan negatif salah diklasifikasikan sebagai positif.\n",
        "* False Negatives (FN): 26 ulasan positif salah diklasifikasikan sebagai negatif.\n",
        "\n",
        "**Perbandingan Naive Bayes vs SVM**\n",
        "\n",
        "Naive Bayes memiliki jumlah True Negatives (97) yang lebih tinggi dibandingkan SVM (92), menunjukkan kemampuan lebih baik dalam mendeteksi ulasan negatif.\n",
        "SVM sedikit lebih unggul dalam mendeteksi ulasan positif dengan jumlah True Positives (65) dibandingkan Naive Bayes (64).\n",
        "False Positives dan False Negatives dari Naive Bayes lebih rendah pada ulasan negatif, tetapi SVM menunjukkan keseimbangan antara positif dan negatif.\n",
        "\n",
        "**2. Perbandingan Akurasi Model**\n",
        "\n",
        "Visualisasi grafik batang yang membandingkan skor kinerja antara dua model, Naive Bayes dan SVM, berdasarkan tiga metrik: Precision, Recall, dan F1-Score. Menggunakan pustaka matplotlib, kode ini membuat dua set batang (rects1 untuk Naive Bayes dan rects2 untuk SVM), dengan lebar batang yang disesuaikan agar tidak saling bertumpukan. Setiap metrik (Precision, Recall, dan F1-Score) ditempatkan di sepanjang sumbu x, sementara nilai skor untuk masing-masing model ditampilkan pada sumbu y. Grafik ini memberi gambaran visual tentang bagaimana kedua model tersebut berperforma di berbagai metrik evaluasi.\n"
      ],
      "metadata": {
        "id": "0_j-oQg7Hc80"
      }
    },
    {
      "cell_type": "code",
      "source": [
        "import numpy as np"
      ],
      "metadata": {
        "id": "QgoJdPnnHfqx"
      },
      "execution_count": null,
      "outputs": []
    },
    {
      "cell_type": "code",
      "source": [
        "# Data metrik\n",
        "metrics = ['Precision', 'Recall', 'F1-Score']\n",
        "nb_scores = [0.85, 0.80, 0.82]  # Contoh nilai untuk Naive Bayes\n",
        "svm_scores = [0.90, 0.85, 0.87]  # Contoh nilai untuk SVM"
      ],
      "metadata": {
        "id": "j-RmZcqhHjZ6"
      },
      "execution_count": null,
      "outputs": []
    },
    {
      "cell_type": "code",
      "source": [
        "x = np.arange(len(metrics))\n",
        "width = 0.35"
      ],
      "metadata": {
        "id": "LbOHc5FIHl0_"
      },
      "execution_count": null,
      "outputs": []
    },
    {
      "cell_type": "code",
      "source": [
        "# Plot\n",
        "fig, ax = plt.subplots()\n",
        "rects1 = ax.bar(x - width/2, nb_scores, width, label='Naive Bayes')\n",
        "rects2 = ax.bar(x + width/2, svm_scores, width, label='SVM')"
      ],
      "metadata": {
        "id": "OUYd33OsHolP"
      },
      "execution_count": null,
      "outputs": []
    },
    {
      "cell_type": "code",
      "source": [
        "ax.set_xlabel('Metrics')\n",
        "ax.set_ylabel('Scores')\n",
        "ax.set_title('Perbandingan Performa Model')\n",
        "ax.set_xticks(x)\n",
        "ax.set_xticklabels(metrics)\n",
        "ax.legend()\n",
        "\n",
        "plt.show()\n",
        "\n",
        "st.pyplot(fig)  # Display the plot using Streamlit"
      ],
      "metadata": {
        "colab": {
          "base_uri": "https://localhost:8080/",
          "height": 559
        },
        "id": "CJlk2DFoHv1l",
        "outputId": "9b6ec089-faf5-48af-b90b-80ec4a4812aa"
      },
      "execution_count": null,
      "outputs": [
        {
          "output_type": "display_data",
          "data": {
            "text/plain": [
              "<Figure size 640x480 with 0 Axes>"
            ]
          },
          "metadata": {}
        },
        {
          "output_type": "display_data",
          "data": {
            "text/plain": [
              "<Figure size 640x480 with 1 Axes>"
            ],
            "image/png": "[encoded data removed]"
          },
          "metadata": {}
        },
        {
          "output_type": "stream",
          "name": "stderr",
          "text": [
            "2024-12-19 17:05:17.880 Thread 'MainThread': missing ScriptRunContext! This warning can be ignored when running in bare mode.\n",
            "2024-12-19 17:05:19.491 Thread 'MainThread': missing ScriptRunContext! This warning can be ignored when running in bare mode.\n",
            "2024-12-19 17:05:19.510 Thread 'MainThread': missing ScriptRunContext! This warning can be ignored when running in bare mode.\n"
          ]
        },
        {
          "output_type": "execute_result",
          "data": {
            "text/plain": [
              "DeltaGenerator()"
            ]
          },
          "metadata": {},
          "execution_count": 55
        }
      ]
    },
    {
      "cell_type": "markdown",
      "source": [
        "Visualisasi diatas menunjukkan perbandingan performa dua model klasifikasi, yaitu Naive Bayes (ditampilkan dalam warna biru) dan SVM (ditampilkan dalam warna oranye), berdasarkan tiga metrik evaluasi utama: Precision, Recall, dan F1-Score. Pada metrik Precision, SVM menunjukkan hasil yang lebih tinggi dibandingkan Naive Bayes, yang menunjukkan bahwa SVM lebih baik dalam meminimalkan prediksi positif palsu. Pada metrik Recall, kedua model memiliki performa yang hampir sama, menunjukkan kemampuan yang setara dalam mendeteksi data positif secara keseluruhan. Namun, pada metrik F1-Score, SVM kembali unggul dibandingkan Naive Bayes, menandakan keseimbangan yang lebih baik antara Precision dan Recall. Secara keseluruhan, grafik ini mengindikasikan bahwa model SVM memberikan performa yang lebih baik dibandingkan Naive Bayes dalam tugas klasifikasi ini.\n"
      ],
      "metadata": {
        "id": "20vzGEYTH3-j"
      }
    },
    {
      "cell_type": "code",
      "source": [
        "import matplotlib.pyplot as plt"
      ],
      "metadata": {
        "id": "Luc7tC6uH6wf"
      },
      "execution_count": null,
      "outputs": []
    },
    {
      "cell_type": "code",
      "source": [
        "# Visualisasi distribusi rating\n",
        "df['score'].value_counts().sort_index().plot(kind='bar', color=['red', 'orange', 'yellow', 'green', 'blue'])\n",
        "plt.title('Distribusi Skor Rating')\n",
        "plt.xlabel('Skor Rating')\n",
        "plt.ylabel('Jumlah Ulasan')\n",
        "plt.show()\n",
        "st.pyplot(plt)  # Display the plot using Streamlit"
      ],
      "metadata": {
        "colab": {
          "base_uri": "https://localhost:8080/",
          "height": 536
        },
        "id": "Zp93sQtIH86I",
        "outputId": "81986ba8-c768-401f-ae0a-2cde4efb7ead"
      },
      "execution_count": null,
      "outputs": [
        {
          "output_type": "display_data",
          "data": {
            "text/plain": [
              "<Figure size 640x480 with 1 Axes>"
            ],
            "image/png": "[encoded data removed]"
          },
          "metadata": {}
        },
        {
          "output_type": "stream",
          "name": "stderr",
          "text": [
            "2024-12-19 17:05:21.583 Thread 'MainThread': missing ScriptRunContext! This warning can be ignored when running in bare mode.\n",
            "2024-12-19 17:05:21.829 Thread 'MainThread': missing ScriptRunContext! This warning can be ignored when running in bare mode.\n",
            "2024-12-19 17:05:21.846 Thread 'MainThread': missing ScriptRunContext! This warning can be ignored when running in bare mode.\n"
          ]
        },
        {
          "output_type": "execute_result",
          "data": {
            "text/plain": [
              "DeltaGenerator()"
            ]
          },
          "metadata": {},
          "execution_count": 57
        }
      ]
    },
    {
      "cell_type": "markdown",
      "source": [
        "Visualisasi diatas menunjukkan distribusi jumlah ulasan berdasarkan skor rating. Pada sumbu horizontal (x-axis), ditampilkan skor rating (1 hingga 5), sedangkan pada sumbu vertikal (y-axis), ditampilkan jumlah ulasan untuk setiap skor.\n",
        "\n",
        "Dari visualisasi ini, terlihat:\n",
        "\n",
        "Skor rating 1 memiliki jumlah ulasan tertinggi, mendekati 400 ulasan, yang menunjukkan dominasi ulasan negatif.\n",
        "Skor rating 2 dan 3 memiliki jumlah ulasan yang jauh lebih sedikit, masing-masing mendekati 100 ulasan.\n",
        "Skor rating 4 memiliki jumlah ulasan yang lebih sedikit dibanding skor 2 dan 3.\n",
        "Skor rating 5 juga memiliki jumlah ulasan yang sangat tinggi, mendekati 400 ulasan, menunjukkan dominasi ulasan sangat positif.\n",
        "Visualisasi ini mengindikasikan bahwa ulasan pada dataset cenderung terpolarisasi, dengan sebagian besar ulasan berada di skor ekstrem (1 atau 5)."
      ],
      "metadata": {
        "id": "P3W70p5zIGAt"
      }
    }
  ]
}